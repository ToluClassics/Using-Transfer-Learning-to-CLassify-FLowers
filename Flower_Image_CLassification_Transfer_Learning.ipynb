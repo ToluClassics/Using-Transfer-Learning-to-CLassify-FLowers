{
  "nbformat": 4,
  "nbformat_minor": 0,
  "metadata": {
    "colab": {
      "name": "Flower Image CLassification_Transfer Learning.ipynb",
      "provenance": [],
      "authorship_tag": "ABX9TyMDx2DcHpFTRp99G/1Ii7u/",
      "include_colab_link": true
    },
    "kernelspec": {
      "name": "python3",
      "display_name": "Python 3"
    }
  },
  "cells": [
    {
      "cell_type": "markdown",
      "metadata": {
        "id": "view-in-github",
        "colab_type": "text"
      },
      "source": [
        "<a href=\"https://colab.research.google.com/github/ToluClassics/Using-Transfer-Learning-to-CLassify-FLowers/blob/master/Flower_Image_CLassification_Transfer_Learning.ipynb\" target=\"_parent\"><img src=\"https://colab.research.google.com/assets/colab-badge.svg\" alt=\"Open In Colab\"/></a>"
      ]
    },
    {
      "cell_type": "code",
      "metadata": {
        "id": "HflJ0j6mo-Es",
        "colab_type": "code",
        "colab": {}
      },
      "source": [
        "#import all the necessary libraries\n",
        "\n",
        "import os\n",
        "import numpy as np\n",
        "import torch\n",
        "\n",
        "import torchvision\n",
        "import torch.optim as optim\n",
        "from torchvision import datasets,models,transforms\n",
        "import matplotlib.pyplot as plt\n",
        "\n",
        "from PIL import Image\n",
        "\n",
        "%matplotlib inline"
      ],
      "execution_count": 0,
      "outputs": []
    }
  ]
}